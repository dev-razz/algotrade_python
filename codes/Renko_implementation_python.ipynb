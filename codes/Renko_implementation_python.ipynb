{
  "cells": [
    {
      "cell_type": "code",
      "execution_count": 1,
      "metadata": {
        "colab": {
          "base_uri": "https://localhost:8080/"
        },
        "id": "yo-uPYJImFHQ",
        "outputId": "bacce12f-f15e-433f-b51c-8ae847d1a5b0"
      },
      "outputs": [
        {
          "name": "stdout",
          "output_type": "stream",
          "text": [
            "Defaulting to user installation because normal site-packages is not writeable\n",
            "Note: you may need to restart the kernel to use updated packages.\n"
          ]
        },
        {
          "name": "stderr",
          "output_type": "stream",
          "text": [
            "ERROR: Invalid requirement: '#'\n",
            "WARNING: You are using pip version 22.0.4; however, version 22.1.2 is available.\n",
            "You should consider upgrading via the 'c:\\Program Files\\Python310\\python.exe -m pip install --upgrade pip' command.\n"
          ]
        }
      ],
      "source": [
        "pip install yfinance # for getting ohlcv data"
      ]
    },
    {
      "cell_type": "code",
      "execution_count": 7,
      "metadata": {
        "colab": {
          "base_uri": "https://localhost:8080/"
        },
        "id": "gpHiDS9hnBUM",
        "outputId": "2542a15e-025e-4531-c427-d354aee8e63f"
      },
      "outputs": [
        {
          "name": "stdout",
          "output_type": "stream",
          "text": [
            "Defaulting to user installation because normal site-packages is not writeable\n",
            "Note: you may need to restart the kernel to use updated packages.\n"
          ]
        },
        {
          "name": "stderr",
          "output_type": "stream",
          "text": [
            "ERROR: Invalid requirement: '#'\n"
          ]
        }
      ],
      "source": [
        "pip install mplfinance # for plotting renko charts "
      ]
    },
    {
      "cell_type": "code",
      "execution_count": 8,
      "metadata": {
        "id": "rgL70pT0mIh8"
      },
      "outputs": [],
      "source": [
        "import datetime as dt\n",
        "import yfinance as yf\n",
        "import pandas as pd\n",
        "import mplfinance as fplt"
      ]
    },
    {
      "cell_type": "code",
      "execution_count": 9,
      "metadata": {
        "colab": {
          "base_uri": "https://localhost:8080/"
        },
        "id": "hKsY7TT4l0w4",
        "outputId": "ca9f13a1-b43e-4157-ec99-12f4c25e9646"
      },
      "outputs": [
        {
          "name": "stdout",
          "output_type": "stream",
          "text": [
            "[*********************100%***********************]  1 of 1 completed\n"
          ]
        }
      ],
      "source": [
        "start_date = dt.datetime.today()- dt.timedelta(1825) # getting data for 1825(around 5 years of data) days --> timedelta is difference in time\n",
        "end_date = dt.datetime.today()\n",
        "ticker_name = \"TCS.NS\"\n",
        "ohlcv = yf.download(ticker_name, start_date, end_date)"
      ]
    },
    {
      "cell_type": "code",
      "execution_count": 10,
      "metadata": {
        "colab": {
          "base_uri": "https://localhost:8080/",
          "height": 450
        },
        "id": "5QQcpXEsSkTH",
        "outputId": "c96ad371-f328-42a6-adc0-ba459b7cd8f6"
      },
      "outputs": [
        {
          "data": {
            "text/html": [
              "<div>\n",
              "<style scoped>\n",
              "    .dataframe tbody tr th:only-of-type {\n",
              "        vertical-align: middle;\n",
              "    }\n",
              "\n",
              "    .dataframe tbody tr th {\n",
              "        vertical-align: top;\n",
              "    }\n",
              "\n",
              "    .dataframe thead th {\n",
              "        text-align: right;\n",
              "    }\n",
              "</style>\n",
              "<table border=\"1\" class=\"dataframe\">\n",
              "  <thead>\n",
              "    <tr style=\"text-align: right;\">\n",
              "      <th></th>\n",
              "      <th>Open</th>\n",
              "      <th>High</th>\n",
              "      <th>Low</th>\n",
              "      <th>Close</th>\n",
              "      <th>Adj Close</th>\n",
              "      <th>Volume</th>\n",
              "    </tr>\n",
              "    <tr>\n",
              "      <th>Date</th>\n",
              "      <th></th>\n",
              "      <th></th>\n",
              "      <th></th>\n",
              "      <th></th>\n",
              "      <th></th>\n",
              "      <th></th>\n",
              "    </tr>\n",
              "  </thead>\n",
              "  <tbody>\n",
              "    <tr>\n",
              "      <th>2017-07-04</th>\n",
              "      <td>1186.650024</td>\n",
              "      <td>1190.224976</td>\n",
              "      <td>1175.025024</td>\n",
              "      <td>1183.425049</td>\n",
              "      <td>1080.592163</td>\n",
              "      <td>1215134</td>\n",
              "    </tr>\n",
              "    <tr>\n",
              "      <th>2017-07-05</th>\n",
              "      <td>1180.400024</td>\n",
              "      <td>1182.500000</td>\n",
              "      <td>1172.500000</td>\n",
              "      <td>1178.000000</td>\n",
              "      <td>1075.638062</td>\n",
              "      <td>815856</td>\n",
              "    </tr>\n",
              "    <tr>\n",
              "      <th>2017-07-06</th>\n",
              "      <td>1179.500000</td>\n",
              "      <td>1180.949951</td>\n",
              "      <td>1170.050049</td>\n",
              "      <td>1173.775024</td>\n",
              "      <td>1071.780518</td>\n",
              "      <td>1026788</td>\n",
              "    </tr>\n",
              "    <tr>\n",
              "      <th>2017-07-07</th>\n",
              "      <td>1175.000000</td>\n",
              "      <td>1178.224976</td>\n",
              "      <td>1162.750000</td>\n",
              "      <td>1165.974976</td>\n",
              "      <td>1064.658447</td>\n",
              "      <td>1232090</td>\n",
              "    </tr>\n",
              "    <tr>\n",
              "      <th>2017-07-10</th>\n",
              "      <td>1203.000000</td>\n",
              "      <td>1222.449951</td>\n",
              "      <td>1189.474976</td>\n",
              "      <td>1217.474976</td>\n",
              "      <td>1111.683105</td>\n",
              "      <td>783608</td>\n",
              "    </tr>\n",
              "    <tr>\n",
              "      <th>...</th>\n",
              "      <td>...</td>\n",
              "      <td>...</td>\n",
              "      <td>...</td>\n",
              "      <td>...</td>\n",
              "      <td>...</td>\n",
              "      <td>...</td>\n",
              "    </tr>\n",
              "    <tr>\n",
              "      <th>2022-06-27</th>\n",
              "      <td>3350.000000</td>\n",
              "      <td>3362.899902</td>\n",
              "      <td>3306.500000</td>\n",
              "      <td>3314.699951</td>\n",
              "      <td>3314.699951</td>\n",
              "      <td>2037686</td>\n",
              "    </tr>\n",
              "    <tr>\n",
              "      <th>2022-06-28</th>\n",
              "      <td>3307.000000</td>\n",
              "      <td>3330.000000</td>\n",
              "      <td>3272.600098</td>\n",
              "      <td>3318.149902</td>\n",
              "      <td>3318.149902</td>\n",
              "      <td>1400046</td>\n",
              "    </tr>\n",
              "    <tr>\n",
              "      <th>2022-06-29</th>\n",
              "      <td>3271.000000</td>\n",
              "      <td>3333.000000</td>\n",
              "      <td>3271.000000</td>\n",
              "      <td>3290.500000</td>\n",
              "      <td>3290.500000</td>\n",
              "      <td>2133994</td>\n",
              "    </tr>\n",
              "    <tr>\n",
              "      <th>2022-06-30</th>\n",
              "      <td>3272.000000</td>\n",
              "      <td>3310.899902</td>\n",
              "      <td>3255.000000</td>\n",
              "      <td>3267.100098</td>\n",
              "      <td>3267.100098</td>\n",
              "      <td>2719603</td>\n",
              "    </tr>\n",
              "    <tr>\n",
              "      <th>2022-07-01</th>\n",
              "      <td>3260.000000</td>\n",
              "      <td>3333.000000</td>\n",
              "      <td>3252.050049</td>\n",
              "      <td>3315.100098</td>\n",
              "      <td>3315.100098</td>\n",
              "      <td>1502879</td>\n",
              "    </tr>\n",
              "  </tbody>\n",
              "</table>\n",
              "<p>1236 rows × 6 columns</p>\n",
              "</div>"
            ],
            "text/plain": [
              "                   Open         High          Low        Close    Adj Close  \\\n",
              "Date                                                                          \n",
              "2017-07-04  1186.650024  1190.224976  1175.025024  1183.425049  1080.592163   \n",
              "2017-07-05  1180.400024  1182.500000  1172.500000  1178.000000  1075.638062   \n",
              "2017-07-06  1179.500000  1180.949951  1170.050049  1173.775024  1071.780518   \n",
              "2017-07-07  1175.000000  1178.224976  1162.750000  1165.974976  1064.658447   \n",
              "2017-07-10  1203.000000  1222.449951  1189.474976  1217.474976  1111.683105   \n",
              "...                 ...          ...          ...          ...          ...   \n",
              "2022-06-27  3350.000000  3362.899902  3306.500000  3314.699951  3314.699951   \n",
              "2022-06-28  3307.000000  3330.000000  3272.600098  3318.149902  3318.149902   \n",
              "2022-06-29  3271.000000  3333.000000  3271.000000  3290.500000  3290.500000   \n",
              "2022-06-30  3272.000000  3310.899902  3255.000000  3267.100098  3267.100098   \n",
              "2022-07-01  3260.000000  3333.000000  3252.050049  3315.100098  3315.100098   \n",
              "\n",
              "             Volume  \n",
              "Date                 \n",
              "2017-07-04  1215134  \n",
              "2017-07-05   815856  \n",
              "2017-07-06  1026788  \n",
              "2017-07-07  1232090  \n",
              "2017-07-10   783608  \n",
              "...             ...  \n",
              "2022-06-27  2037686  \n",
              "2022-06-28  1400046  \n",
              "2022-06-29  2133994  \n",
              "2022-06-30  2719603  \n",
              "2022-07-01  1502879  \n",
              "\n",
              "[1236 rows x 6 columns]"
            ]
          },
          "execution_count": 10,
          "metadata": {},
          "output_type": "execute_result"
        }
      ],
      "source": [
        "ohlcv"
      ]
    },
    {
      "cell_type": "code",
      "execution_count": 11,
      "metadata": {
        "id": "ilvQcKWbl5R-"
      },
      "outputs": [],
      "source": [
        "# Function to calculate average true range\n",
        "def ATR(DF, n):\n",
        "  df = DF.copy() # making copy of the original dataframe\n",
        "  df['H-L'] = abs(df['High'] - df['Low']) \n",
        "  df['H-PC'] = abs(df['High'] - df['Adj Close'].shift(1))# high -previous close\n",
        "  df['L-PC'] = abs(df['Low'] - df['Adj Close'].shift(1)) #low - previous close\n",
        "  df['TR'] = df[['H-L','H-PC','L-PC']].max(axis =1, skipna = False) # True range\n",
        "  df['ATR'] = df['TR'].rolling(n).mean() # average –true range\n",
        "  df = df.drop(['H-L','H-PC','L-PC'], axis =1) # dropping the unneccesary columns\n",
        "  df.dropna(inplace = True) # droping null items\n",
        "  return df"
      ]
    },
    {
      "cell_type": "code",
      "execution_count": 12,
      "metadata": {
        "colab": {
          "base_uri": "https://localhost:8080/",
          "height": 440
        },
        "id": "JEZpewYw4IDI",
        "outputId": "25edf040-5f93-4c8b-ab46-3670b998700b"
      },
      "outputs": [
        {
          "data": {
            "text/html": [
              "<div>\n",
              "<style scoped>\n",
              "    .dataframe tbody tr th:only-of-type {\n",
              "        vertical-align: middle;\n",
              "    }\n",
              "\n",
              "    .dataframe tbody tr th {\n",
              "        vertical-align: top;\n",
              "    }\n",
              "\n",
              "    .dataframe thead th {\n",
              "        text-align: right;\n",
              "    }\n",
              "</style>\n",
              "<table border=\"1\" class=\"dataframe\">\n",
              "  <thead>\n",
              "    <tr style=\"text-align: right;\">\n",
              "      <th></th>\n",
              "      <th>Open</th>\n",
              "      <th>High</th>\n",
              "      <th>Low</th>\n",
              "      <th>Close</th>\n",
              "      <th>Adj Close</th>\n",
              "      <th>Volume</th>\n",
              "      <th>TR</th>\n",
              "      <th>ATR</th>\n",
              "    </tr>\n",
              "    <tr>\n",
              "      <th>Date</th>\n",
              "      <th></th>\n",
              "      <th></th>\n",
              "      <th></th>\n",
              "      <th></th>\n",
              "      <th></th>\n",
              "      <th></th>\n",
              "      <th></th>\n",
              "      <th></th>\n",
              "    </tr>\n",
              "  </thead>\n",
              "  <tbody>\n",
              "    <tr>\n",
              "      <th>2017-09-14</th>\n",
              "      <td>1241.000000</td>\n",
              "      <td>1248.800049</td>\n",
              "      <td>1235.949951</td>\n",
              "      <td>1243.474976</td>\n",
              "      <td>1138.623291</td>\n",
              "      <td>1081510</td>\n",
              "      <td>109.146484</td>\n",
              "      <td>117.494868</td>\n",
              "    </tr>\n",
              "    <tr>\n",
              "      <th>2017-09-15</th>\n",
              "      <td>1249.500000</td>\n",
              "      <td>1258.500000</td>\n",
              "      <td>1242.500000</td>\n",
              "      <td>1253.025024</td>\n",
              "      <td>1147.368286</td>\n",
              "      <td>2944072</td>\n",
              "      <td>119.876709</td>\n",
              "      <td>117.854246</td>\n",
              "    </tr>\n",
              "    <tr>\n",
              "      <th>2017-09-18</th>\n",
              "      <td>1252.474976</td>\n",
              "      <td>1259.474976</td>\n",
              "      <td>1244.625000</td>\n",
              "      <td>1249.525024</td>\n",
              "      <td>1144.163086</td>\n",
              "      <td>726600</td>\n",
              "      <td>112.106689</td>\n",
              "      <td>117.990142</td>\n",
              "    </tr>\n",
              "    <tr>\n",
              "      <th>2017-09-19</th>\n",
              "      <td>1252.500000</td>\n",
              "      <td>1252.500000</td>\n",
              "      <td>1245.750000</td>\n",
              "      <td>1249.125000</td>\n",
              "      <td>1143.796997</td>\n",
              "      <td>782754</td>\n",
              "      <td>108.336914</td>\n",
              "      <td>118.027991</td>\n",
              "    </tr>\n",
              "    <tr>\n",
              "      <th>2017-09-20</th>\n",
              "      <td>1257.000000</td>\n",
              "      <td>1257.000000</td>\n",
              "      <td>1237.150024</td>\n",
              "      <td>1246.775024</td>\n",
              "      <td>1141.645264</td>\n",
              "      <td>1334642</td>\n",
              "      <td>113.203003</td>\n",
              "      <td>117.136221</td>\n",
              "    </tr>\n",
              "    <tr>\n",
              "      <th>...</th>\n",
              "      <td>...</td>\n",
              "      <td>...</td>\n",
              "      <td>...</td>\n",
              "      <td>...</td>\n",
              "      <td>...</td>\n",
              "      <td>...</td>\n",
              "      <td>...</td>\n",
              "      <td>...</td>\n",
              "    </tr>\n",
              "    <tr>\n",
              "      <th>2022-06-27</th>\n",
              "      <td>3350.000000</td>\n",
              "      <td>3362.899902</td>\n",
              "      <td>3306.500000</td>\n",
              "      <td>3314.699951</td>\n",
              "      <td>3314.699951</td>\n",
              "      <td>2037686</td>\n",
              "      <td>69.799805</td>\n",
              "      <td>83.001035</td>\n",
              "    </tr>\n",
              "    <tr>\n",
              "      <th>2022-06-28</th>\n",
              "      <td>3307.000000</td>\n",
              "      <td>3330.000000</td>\n",
              "      <td>3272.600098</td>\n",
              "      <td>3318.149902</td>\n",
              "      <td>3318.149902</td>\n",
              "      <td>1400046</td>\n",
              "      <td>57.399902</td>\n",
              "      <td>81.850073</td>\n",
              "    </tr>\n",
              "    <tr>\n",
              "      <th>2022-06-29</th>\n",
              "      <td>3271.000000</td>\n",
              "      <td>3333.000000</td>\n",
              "      <td>3271.000000</td>\n",
              "      <td>3290.500000</td>\n",
              "      <td>3290.500000</td>\n",
              "      <td>2133994</td>\n",
              "      <td>62.000000</td>\n",
              "      <td>80.602070</td>\n",
              "    </tr>\n",
              "    <tr>\n",
              "      <th>2022-06-30</th>\n",
              "      <td>3272.000000</td>\n",
              "      <td>3310.899902</td>\n",
              "      <td>3255.000000</td>\n",
              "      <td>3267.100098</td>\n",
              "      <td>3267.100098</td>\n",
              "      <td>2719603</td>\n",
              "      <td>55.899902</td>\n",
              "      <td>79.310459</td>\n",
              "    </tr>\n",
              "    <tr>\n",
              "      <th>2022-07-01</th>\n",
              "      <td>3260.000000</td>\n",
              "      <td>3333.000000</td>\n",
              "      <td>3252.050049</td>\n",
              "      <td>3315.100098</td>\n",
              "      <td>3315.100098</td>\n",
              "      <td>1502879</td>\n",
              "      <td>80.949951</td>\n",
              "      <td>78.709487</td>\n",
              "    </tr>\n",
              "  </tbody>\n",
              "</table>\n",
              "<p>1186 rows × 8 columns</p>\n",
              "</div>"
            ],
            "text/plain": [
              "                   Open         High          Low        Close    Adj Close  \\\n",
              "Date                                                                          \n",
              "2017-09-14  1241.000000  1248.800049  1235.949951  1243.474976  1138.623291   \n",
              "2017-09-15  1249.500000  1258.500000  1242.500000  1253.025024  1147.368286   \n",
              "2017-09-18  1252.474976  1259.474976  1244.625000  1249.525024  1144.163086   \n",
              "2017-09-19  1252.500000  1252.500000  1245.750000  1249.125000  1143.796997   \n",
              "2017-09-20  1257.000000  1257.000000  1237.150024  1246.775024  1141.645264   \n",
              "...                 ...          ...          ...          ...          ...   \n",
              "2022-06-27  3350.000000  3362.899902  3306.500000  3314.699951  3314.699951   \n",
              "2022-06-28  3307.000000  3330.000000  3272.600098  3318.149902  3318.149902   \n",
              "2022-06-29  3271.000000  3333.000000  3271.000000  3290.500000  3290.500000   \n",
              "2022-06-30  3272.000000  3310.899902  3255.000000  3267.100098  3267.100098   \n",
              "2022-07-01  3260.000000  3333.000000  3252.050049  3315.100098  3315.100098   \n",
              "\n",
              "             Volume          TR         ATR  \n",
              "Date                                         \n",
              "2017-09-14  1081510  109.146484  117.494868  \n",
              "2017-09-15  2944072  119.876709  117.854246  \n",
              "2017-09-18   726600  112.106689  117.990142  \n",
              "2017-09-19   782754  108.336914  118.027991  \n",
              "2017-09-20  1334642  113.203003  117.136221  \n",
              "...             ...         ...         ...  \n",
              "2022-06-27  2037686   69.799805   83.001035  \n",
              "2022-06-28  1400046   57.399902   81.850073  \n",
              "2022-06-29  2133994   62.000000   80.602070  \n",
              "2022-06-30  2719603   55.899902   79.310459  \n",
              "2022-07-01  1502879   80.949951   78.709487  \n",
              "\n",
              "[1186 rows x 8 columns]"
            ]
          },
          "execution_count": 12,
          "metadata": {},
          "output_type": "execute_result"
        }
      ],
      "source": [
        "ATR(ohlcv,50)"
      ]
    },
    {
      "cell_type": "code",
      "execution_count": 13,
      "metadata": {
        "id": "O4dlw4mNYu9j"
      },
      "outputs": [],
      "source": [
        "bricks = round(ATR(ohlcv,50)[\"ATR\"][-1],0) # Using default 50 days rolling average."
      ]
    },
    {
      "cell_type": "code",
      "execution_count": 14,
      "metadata": {
        "colab": {
          "base_uri": "https://localhost:8080/"
        },
        "id": "CBxkV44cwbWG",
        "outputId": "536d7b5a-c5c5-4678-ae45-9ab131acdb36"
      },
      "outputs": [
        {
          "data": {
            "text/plain": [
              "79.0"
            ]
          },
          "execution_count": 14,
          "metadata": {},
          "output_type": "execute_result"
        }
      ],
      "source": [
        "bricks"
      ]
    },
    {
      "cell_type": "code",
      "execution_count": 15,
      "metadata": {
        "colab": {
          "base_uri": "https://localhost:8080/",
          "height": 690
        },
        "id": "n6HkqL8Ok9y7",
        "outputId": "ea7b802d-6d1f-4866-dc1f-c4bc530d1e60"
      },
      "outputs": [
        {
          "data": {
            "image/png": "[encoded data removed]",
            "text/plain": [
              "<Figure size 1296x504 with 2 Axes>"
            ]
          },
          "metadata": {
            "needs_background": "light"
          },
          "output_type": "display_data"
        }
      ],
      "source": [
        "fplt.plot(ohlcv,type='renko',renko_params=dict(brick_size=bricks, atr_length=14),\n",
        "          style='yahoo',figsize =(18,7),\n",
        "          title = \"RENKO CHART WITH ATR for {0}\".format(ticker_name))"
      ]
    },
    {
      "cell_type": "code",
      "execution_count": null,
      "metadata": {
        "id": "U-66lmhd6oqQ"
      },
      "outputs": [],
      "source": []
    }
  ],
  "metadata": {
    "colab": {
      "name": "Renko_1.ipynb",
      "provenance": []
    },
    "kernelspec": {
      "display_name": "Python 3.10.5 64-bit",
      "language": "python",
      "name": "python3"
    },
    "language_info": {
      "codemirror_mode": {
        "name": "ipython",
        "version": 3
      },
      "file_extension": ".py",
      "mimetype": "text/x-python",
      "name": "python",
      "nbconvert_exporter": "python",
      "pygments_lexer": "ipython3",
      "version": "3.10.5"
    },
    "vscode": {
      "interpreter": {
        "hash": "26de051ba29f2982a8de78e945f0abaf191376122a1563185a90213a26c5da77"
      }
    }
  },
  "nbformat": 4,
  "nbformat_minor": 0
}
